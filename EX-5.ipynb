{
  "cells": [
    {
      "cell_type": "code",
      "execution_count": 4,
      "metadata": {
        "id": "fs7ENEh70FhY"
      },
      "outputs": [],
      "source": [
        "import pandas as pd\n",
        "from matplotlib import pyplot as plt\n",
        "import seaborn as sns\n",
        "from sklearn.cluster import KMeans"
      ]
    },
    {
      "cell_type": "code",
      "execution_count": null,
      "metadata": {
        "colab": {
          "base_uri": "https://localhost:8080/",
          "height": 424
        },
        "id": "x8LzaLEu0wum",
        "outputId": "5171f7b4-aa83-4483-d7d1-34be60b81fbf"
      },
      "outputs": [],
      "source": [
        "df=pd.read_csv('dataset/Mall_Customers.csv')\n",
        "df"
      ]
    },
    {
      "cell_type": "code",
      "execution_count": null,
      "metadata": {
        "colab": {
          "base_uri": "https://localhost:8080/",
          "height": 206
        },
        "id": "DV5wgK1R036o",
        "outputId": "9a4ef2a0-54e6-43c7-e68c-ef235646c5ac"
      },
      "outputs": [],
      "source": [
        "df.head()"
      ]
    },
    {
      "cell_type": "code",
      "execution_count": null,
      "metadata": {
        "colab": {
          "base_uri": "https://localhost:8080/"
        },
        "id": "1n-07E_v1F_K",
        "outputId": "33367869-4e9c-406f-8ec1-deaf359a6720"
      },
      "outputs": [],
      "source": [
        "df.shape"
      ]
    },
    {
      "cell_type": "code",
      "execution_count": null,
      "metadata": {
        "colab": {
          "base_uri": "https://localhost:8080/",
          "height": 204
        },
        "id": "vqesGDnI1HNE",
        "outputId": "164fe67b-10c1-4b49-cb16-e3a4b4df18a1"
      },
      "outputs": [],
      "source": [
        "df.info"
      ]
    },
    {
      "cell_type": "code",
      "execution_count": null,
      "metadata": {
        "colab": {
          "base_uri": "https://localhost:8080/",
          "height": 424
        },
        "id": "-0NaytNx1IhE",
        "outputId": "812be31a-8af5-4c8e-f083-136528e2b1a4"
      },
      "outputs": [],
      "source": [
        "df.iloc[:,[3,4]]"
      ]
    },
    {
      "cell_type": "code",
      "execution_count": 10,
      "metadata": {
        "id": "AQrfN0XX1Ln8"
      },
      "outputs": [],
      "source": [
        "x = df.loc[:, \"Annual Income (k$)\":\"Spending Score (1-100)\"].values"
      ]
    },
    {
      "cell_type": "code",
      "execution_count": null,
      "metadata": {
        "colab": {
          "base_uri": "https://localhost:8080/"
        },
        "id": "I7-mpkqv1beM",
        "outputId": "4f71ad80-56e0-4867-a51c-c058b6fb85b7"
      },
      "outputs": [],
      "source": [
        "x"
      ]
    },
    {
      "cell_type": "code",
      "execution_count": 12,
      "metadata": {
        "id": "WQL5mgDR13rM"
      },
      "outputs": [],
      "source": [
        "df.rename(columns={'Genre':'Gender'},inplace=True)"
      ]
    },
    {
      "cell_type": "code",
      "execution_count": null,
      "metadata": {
        "colab": {
          "base_uri": "https://localhost:8080/",
          "height": 206
        },
        "id": "cg-Ve2QM2BJb",
        "outputId": "6765b7f8-0991-4714-955e-6e1c8a4f4e1d"
      },
      "outputs": [],
      "source": [
        "df.head()"
      ]
    },
    {
      "cell_type": "code",
      "execution_count": null,
      "metadata": {
        "colab": {
          "base_uri": "https://localhost:8080/",
          "height": 241
        },
        "id": "Aj8Wi-CC2DSr",
        "outputId": "35f3f4dd-26a5-44f1-d2ae-1e2d95b4f21c"
      },
      "outputs": [],
      "source": [
        "df.dtypes"
      ]
    },
    {
      "cell_type": "code",
      "execution_count": null,
      "metadata": {
        "colab": {
          "base_uri": "https://localhost:8080/",
          "height": 300
        },
        "id": "p-Gw-5nu2GWc",
        "outputId": "2197c1db-c8f0-4cd0-a24d-4dc0e3581f24"
      },
      "outputs": [],
      "source": [
        "df.describe()"
      ]
    },
    {
      "cell_type": "code",
      "execution_count": null,
      "metadata": {
        "colab": {
          "base_uri": "https://localhost:8080/",
          "height": 458
        },
        "id": "csxTGSNV2LbJ",
        "outputId": "09022c71-ea91-40cc-bff2-57dc690ecf0d"
      },
      "outputs": [],
      "source": [
        "df.duplicated()"
      ]
    },
    {
      "cell_type": "code",
      "execution_count": null,
      "metadata": {
        "colab": {
          "base_uri": "https://localhost:8080/",
          "height": 489
        },
        "id": "K3Bu8VyF2RaJ",
        "outputId": "3429a6f3-a2fc-4ceb-beb7-8a7c13151a81"
      },
      "outputs": [],
      "source": [
        "sns.set_style(\"dark\")\n",
        "sns.scatterplot(x='Annual Income (k$)',y='Spending Score (1-100)',data=df)\n",
        "plt.xlabel('Annual Income')\n",
        "plt.ylabel('Spending Score')\n",
        "plt.title('Annual Income vs Spending Score')"
      ]
    },
    {
      "cell_type": "code",
      "execution_count": 18,
      "metadata": {
        "id": "G0I0sikG2uFc"
      },
      "outputs": [],
      "source": [
        "wcss=[]"
      ]
    },
    {
      "cell_type": "code",
      "execution_count": 19,
      "metadata": {
        "id": "0_qDdV2Z220S"
      },
      "outputs": [],
      "source": [
        "for i in range(1,11):\n",
        "  kmeans=KMeans(n_clusters=i,init='k-means++',random_state=0)\n",
        "  kmeans.fit(x)\n",
        "  wcss.append(kmeans.inertia_)"
      ]
    },
    {
      "cell_type": "code",
      "execution_count": null,
      "metadata": {
        "colab": {
          "base_uri": "https://localhost:8080/",
          "height": 564
        },
        "id": "usfWAH8G29_c",
        "outputId": "af597157-733c-4c22-c48e-83d4e6325883"
      },
      "outputs": [],
      "source": [
        "plt.figure(figsize=(12,6))\n",
        "plt.grid()\n",
        "plt.plot(\n",
        "    range(1, 11),\n",
        "    wcss,\n",
        "    color=\"green\",\n",
        "    linestyle=\"dashed\",\n",
        "    linewidth=3,\n",
        "    marker=\"o\",\n",
        "    markerfacecolor=\"blue\",\n",
        "    markersize=12,\n",
        ")\n",
        "plt.title(\"The Elbow Point Graph\")\n",
        "plt.xlabel(\"Number of Clusters\")\n",
        "plt.ylabel(\"WCSS\")\n",
        "plt.show()"
      ]
    },
    {
      "cell_type": "code",
      "execution_count": null,
      "metadata": {
        "colab": {
          "base_uri": "https://localhost:8080/"
        },
        "id": "3NA3XKec3OzY",
        "outputId": "ac0d2ee8-27e6-4c7d-b512-ffd083c3fb8c"
      },
      "outputs": [],
      "source": [
        "kmeans=KMeans(n_clusters=5,init='k-means++')\n",
        "y_kmeans=kmeans.fit_predict(x)\n",
        "print(y_kmeans)"
      ]
    },
    {
      "cell_type": "code",
      "execution_count": null,
      "metadata": {
        "colab": {
          "base_uri": "https://localhost:8080/"
        },
        "id": "vOmyAOSq3YQE",
        "outputId": "727119ea-308c-4a95-ef10-e3544ea1d139"
      },
      "outputs": [],
      "source": [
        "print(kmeans.cluster_centers_)"
      ]
    },
    {
      "cell_type": "code",
      "execution_count": null,
      "metadata": {
        "colab": {
          "base_uri": "https://localhost:8080/",
          "height": 693
        },
        "id": "XKAwRyfS3aWr",
        "outputId": "421841a5-bd09-40d9-eb44-10ddbb1fe3ba"
      },
      "outputs": [],
      "source": [
        "plt.figure(figsize=(8,8))\n",
        "plt.scatter(x[y_kmeans == 0, 0], x[y_kmeans == 0, 1], s = 100, c = 'green', label = 'Cluster 1')\n",
        "plt.scatter(x[y_kmeans == 1, 0], x[y_kmeans == 1, 1], s = 100, c = 'yellow', label = 'Cluster 2')\n",
        "plt.scatter(x[y_kmeans == 2, 0], x[y_kmeans == 2, 1], s = 100, c = 'blue', label = 'Cluster 3')\n",
        "plt.scatter(x[y_kmeans == 3, 0], x[y_kmeans == 3, 1], s = 100, c = 'violet', label = 'Cluster 4')\n",
        "plt.scatter(x[y_kmeans == 4, 0], x[y_kmeans == 4, 1], s = 100, c = 'grey', label = 'Cluster 5')"
      ]
    },
    {
      "cell_type": "code",
      "execution_count": null,
      "metadata": {
        "colab": {
          "base_uri": "https://localhost:8080/",
          "height": 447
        },
        "id": "kToA07j339DK",
        "outputId": "75ecbd37-7d56-4965-9085-c7f4c41aa740"
      },
      "outputs": [],
      "source": [
        "plt.scatter(kmeans.cluster_centers_[:, 0], kmeans.cluster_centers_[:, 1], s = 100, c = 'black', label = 'Centroids',marker=\"*\")"
      ]
    },
    {
      "cell_type": "code",
      "execution_count": null,
      "metadata": {
        "colab": {
          "base_uri": "https://localhost:8080/",
          "height": 718
        },
        "id": "Xh6ua28D4KLL",
        "outputId": "4d15ee9a-a149-45c5-8a74-a28a8d8d914d"
      },
      "outputs": [],
      "source": [
        "plt.figure(figsize=(8,8))\n",
        "plt.scatter(x[y_kmeans == 0, 0], x[y_kmeans == 0, 1], s = 100, c = 'green', label = 'Cluster 1')\n",
        "plt.scatter(x[y_kmeans == 1, 0], x[y_kmeans == 1, 1], s = 100, c = 'yellow', label = 'Cluster 2')\n",
        "plt.scatter(x[y_kmeans == 2, 0], x[y_kmeans == 2, 1], s = 100, c = 'blue', label = 'Cluster 3')\n",
        "plt.scatter(x[y_kmeans == 3, 0], x[y_kmeans == 3, 1], s = 100, c = 'violet', label = 'Cluster 4')\n",
        "plt.scatter(x[y_kmeans == 4, 0], x[y_kmeans == 4, 1], s = 100, c = 'grey', label = 'Cluster 5')\n",
        "\n",
        "plt.scatter(\n",
        "    kmeans.cluster_centers_[:, 0],\n",
        "    kmeans.cluster_centers_[:, 1],\n",
        "    s=100,\n",
        "    c=\"black\",\n",
        "    label=\"Centroids\",\n",
        "    marker=\"*\",\n",
        ")\n",
        "\n",
        "plt.title(\"Customer groups\")\n",
        "plt.xlabel(\"Annual Income\")\n",
        "plt.ylabel(\"Spending Score (1-100)\")\n",
        "plt.legend()\n",
        "\n",
        "plt.show()"
      ]
    }
  ],
  "metadata": {
    "colab": {
      "provenance": []
    },
    "kernelspec": {
      "display_name": "Python 3",
      "name": "python3"
    },
    "language_info": {
      "codemirror_mode": {
        "name": "ipython",
        "version": 3
      },
      "file_extension": ".py",
      "mimetype": "text/x-python",
      "name": "python",
      "nbconvert_exporter": "python",
      "pygments_lexer": "ipython3",
      "version": "3.12.7"
    }
  },
  "nbformat": 4,
  "nbformat_minor": 0
}
