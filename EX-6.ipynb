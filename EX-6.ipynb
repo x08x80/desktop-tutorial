{
  "cells": [
    {
      "cell_type": "code",
      "execution_count": 1,
      "metadata": {
        "id": "e1e628-hS-xK"
      },
      "outputs": [],
      "source": [
        "from sklearn import datasets\n",
        "import pandas as pd\n",
        "from sklearn.preprocessing import StandardScaler\n",
        "from sklearn.decomposition import PCA\n",
        "import seaborn as sns"
      ]
    },
    {
      "cell_type": "code",
      "execution_count": null,
      "metadata": {
        "colab": {
          "base_uri": "https://localhost:8080/",
          "height": 206
        },
        "id": "-yW6PpZYTsO4",
        "outputId": "2f4fff87-c0ef-47a7-ab15-26601ece7c1e"
      },
      "outputs": [],
      "source": [
        "iris=datasets.load_iris()\n",
        "df=pd.DataFrame(iris.data,columns=iris.feature_names)\n",
        "df.head()"
      ]
    },
    {
      "cell_type": "code",
      "execution_count": null,
      "metadata": {
        "colab": {
          "base_uri": "https://localhost:8080/",
          "height": 424
        },
        "id": "l_WUuhXnT12V",
        "outputId": "2b03bf42-f0b9-4634-d210-1c04a43067fe"
      },
      "outputs": [],
      "source": [
        "scalar=StandardScaler()\n",
        "scaled_data=pd.DataFrame(scalar.fit_transform(df))\n",
        "scaled_data"
      ]
    },
    {
      "cell_type": "code",
      "execution_count": null,
      "metadata": {
        "colab": {
          "base_uri": "https://localhost:8080/",
          "height": 452
        },
        "id": "SwuuXC5fUBKt",
        "outputId": "22d80885-d049-4f8d-bb77-e5d0c8e7e9a8"
      },
      "outputs": [],
      "source": [
        "sns.heatmap(scaled_data.corr())"
      ]
    },
    {
      "cell_type": "code",
      "execution_count": null,
      "metadata": {
        "colab": {
          "base_uri": "https://localhost:8080/",
          "height": 206
        },
        "id": "NVSQ66dBUNf7",
        "outputId": "a7b0cb23-983b-4ca5-ba4e-82c94bb965ec"
      },
      "outputs": [],
      "source": [
        "pca = PCA(n_components=3)\n",
        "pca.fit(scaled_data)\n",
        "data_pca = pca.transform(scaled_data)\n",
        "data_pca = pd.DataFrame(data_pca, columns=[\"PCl\", \"PC2\", \"PC3\"])\n",
        "data_pca.head()"
      ]
    },
    {
      "cell_type": "code",
      "execution_count": null,
      "metadata": {
        "colab": {
          "base_uri": "https://localhost:8080/",
          "height": 452
        },
        "id": "OlJ-cMLnUcZN",
        "outputId": "259c1351-00dc-453d-a50b-0aee36e70c71"
      },
      "outputs": [],
      "source": [
        "sns.heatmap(data_pca.corr())"
      ]
    },
    {
      "cell_type": "code",
      "execution_count": null,
      "metadata": {
        "id": "NYbD-vT0UgUs"
      },
      "outputs": [],
      "source": []
    }
  ],
  "metadata": {
    "colab": {
      "authorship_tag": "ABX9TyMbZ9VyzrFi9D173fckXf5X",
      "include_colab_link": true,
      "mount_file_id": "1Oetg2nlVd9LN5067rmAGHHcR4plwOMR_",
      "provenance": []
    },
    "kernelspec": {
      "display_name": "Python 3",
      "name": "python3"
    },
    "language_info": {
      "codemirror_mode": {
        "name": "ipython",
        "version": 3
      },
      "file_extension": ".py",
      "mimetype": "text/x-python",
      "name": "python",
      "nbconvert_exporter": "python",
      "pygments_lexer": "ipython3",
      "version": "3.12.7"
    }
  },
  "nbformat": 4,
  "nbformat_minor": 0
}
