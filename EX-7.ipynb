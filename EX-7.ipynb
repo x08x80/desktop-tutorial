{
  "cells": [
    {
      "cell_type": "markdown",
      "metadata": {
        "colab_type": "text",
        "id": "view-in-github"
      },
      "source": [
        "<a href=\"https://colab.research.google.com/github/nishanth-sudo/ML-Laboratory/blob/main/expt7_easyocr.ipynb\" target=\"_parent\"><img src=\"https://colab.research.google.com/assets/colab-badge.svg\" alt=\"Open In Colab\"/></a>"
      ]
    },
    {
      "cell_type": "code",
      "execution_count": 8,
      "metadata": {
        "id": "lvc3-cAbVljK"
      },
      "outputs": [],
      "source": [
        "import cv2\n",
        "from matplotlib import pyplot as plt\n",
        "import easyocr"
      ]
    },
    {
      "cell_type": "code",
      "execution_count": 9,
      "metadata": {
        "colab": {
          "base_uri": "https://localhost:8080/",
          "height": 0
        },
        "id": "n9kuXdAnVvLV",
        "outputId": "6383b389-7088-4c9a-fb32-cdee613d726e"
      },
      "outputs": [],
      "source": [
        "%%capture\n",
        "reader=easyocr.Reader(['en'])"
      ]
    },
    {
      "cell_type": "code",
      "execution_count": 10,
      "metadata": {
        "id": "2yndOoFsWAiX"
      },
      "outputs": [],
      "source": [
        "imgpath=\"dataset/Receipt-Dataset.webp\""
      ]
    },
    {
      "cell_type": "code",
      "execution_count": null,
      "metadata": {
        "colab": {
          "base_uri": "https://localhost:8080/",
          "height": 273
        },
        "id": "ejxtdb7JWIOe",
        "outputId": "d760c398-b817-4a0f-c551-316fa72e7cf8"
      },
      "outputs": [],
      "source": [
        "img=cv2.imread(imgpath)\n",
        "plt.imshow(img)"
      ]
    },
    {
      "cell_type": "code",
      "execution_count": null,
      "metadata": {
        "colab": {
          "base_uri": "https://localhost:8080/",
          "height": 293
        },
        "id": "oNIVOIl4WO3X",
        "outputId": "85365660-96e9-4de1-8864-a43ef0a5bf25"
      },
      "outputs": [],
      "source": [
        "re=reader.readtext(imgpath)\n",
        "img=cv2.imread(imgpath)\n",
        "for finding in re:\n",
        "    top_left = tuple(finding[0][0])\n",
        "    bottom_right = tuple(finding[0][2])\n",
        "    text = finding[1]\n",
        "    font = cv2.FONT_HERSHEY_SIMPLEX\n",
        "    img = cv2.rectangle(img, top_left, bottom_right, (0, 255, 0), 3)\n",
        "    img = cv2.putText(img, text, top_left, font, 1, (255, 0, 255), 2, cv2.LINE_AA)\n",
        "print([r[1] for r in re])\n",
        "plt.imshow(img)\n",
        "plt.show()"
      ]
    }
  ],
  "metadata": {
    "colab": {
      "authorship_tag": "ABX9TyNBwyEfzr0nYhcvgyJQ7hrs",
      "include_colab_link": true,
      "mount_file_id": "1Fdc0UZidupBChfxVfc-ZL3vAbsMCDBvo",
      "provenance": []
    },
    "kernelspec": {
      "display_name": "Python 3",
      "name": "python3"
    },
    "language_info": {
      "codemirror_mode": {
        "name": "ipython",
        "version": 3
      },
      "file_extension": ".py",
      "mimetype": "text/x-python",
      "name": "python",
      "nbconvert_exporter": "python",
      "pygments_lexer": "ipython3",
      "version": "3.12.7"
    }
  },
  "nbformat": 4,
  "nbformat_minor": 0
}
