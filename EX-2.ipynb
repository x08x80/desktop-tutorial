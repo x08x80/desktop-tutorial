{
  "cells": [
    {
      "cell_type": "code",
      "execution_count": 81,
      "metadata": {
        "id": "KVBA1ozlY3Dg"
      },
      "outputs": [],
      "source": [
        "import pandas as pd"
      ]
    },
    {
      "cell_type": "code",
      "execution_count": null,
      "metadata": {
        "colab": {
          "base_uri": "https://localhost:8080/",
          "height": 363
        },
        "id": "KtOL6jxzZQQ4",
        "outputId": "7fc2cb61-94a7-4756-e0d4-44ac31ff6fa3"
      },
      "outputs": [],
      "source": [
        "df=pd.read_csv(\"dataset/cust_data.csv\")\n",
        "df"
      ]
    },
    {
      "cell_type": "code",
      "execution_count": null,
      "metadata": {
        "colab": {
          "base_uri": "https://localhost:8080/"
        },
        "id": "tmfbXAb2ZZ0E",
        "outputId": "2eafd0f1-904e-464b-e75e-6a70754b7229"
      },
      "outputs": [],
      "source": [
        "x=df.loc[:,:'invoice_no'].values\n",
        "x"
      ]
    },
    {
      "cell_type": "code",
      "execution_count": null,
      "metadata": {
        "colab": {
          "base_uri": "https://localhost:8080/",
          "height": 363
        },
        "id": "IQCY8rBWZ928",
        "outputId": "079fb85c-7731-47a0-f839-29095e7a1d26"
      },
      "outputs": [],
      "source": [
        "df.iloc[:,:-1]\n"
      ]
    },
    {
      "cell_type": "code",
      "execution_count": null,
      "metadata": {
        "colab": {
          "base_uri": "https://localhost:8080/",
          "height": 398
        },
        "id": "-DzoVmuEaRrt",
        "outputId": "0fa3718f-c23c-4a31-862b-36bda2bae444"
      },
      "outputs": [],
      "source": [
        "y=df.iloc[:,3].values\n",
        "df.iloc[:,3]"
      ]
    },
    {
      "cell_type": "code",
      "execution_count": null,
      "metadata": {
        "colab": {
          "base_uri": "https://localhost:8080/",
          "height": 206
        },
        "id": "4WrjTPW2aTLe",
        "outputId": "b6ac4c6f-ff0e-4742-a6ba-c5be055f440a"
      },
      "outputs": [],
      "source": [
        "df.head()"
      ]
    },
    {
      "cell_type": "code",
      "execution_count": null,
      "metadata": {
        "colab": {
          "base_uri": "https://localhost:8080/",
          "height": 206
        },
        "id": "W5T207mNaZR4",
        "outputId": "f0c39626-f2de-416c-b021-9fae80819dd9"
      },
      "outputs": [],
      "source": [
        "df.tail()"
      ]
    },
    {
      "cell_type": "code",
      "execution_count": 88,
      "metadata": {
        "id": "_G3KDPTUaa4o"
      },
      "outputs": [],
      "source": [
        "from sklearn.preprocessing import LabelEncoder"
      ]
    },
    {
      "cell_type": "code",
      "execution_count": 89,
      "metadata": {
        "id": "F4CkfEYtaltC"
      },
      "outputs": [],
      "source": [
        "le_x=LabelEncoder()"
      ]
    },
    {
      "cell_type": "code",
      "execution_count": 90,
      "metadata": {
        "id": "5ieprAoxaoXX"
      },
      "outputs": [],
      "source": [
        "x[:,0]=le_x.fit_transform(x[:,0])"
      ]
    },
    {
      "cell_type": "code",
      "execution_count": null,
      "metadata": {
        "colab": {
          "base_uri": "https://localhost:8080/"
        },
        "id": "5ZC9FsMPasfB",
        "outputId": "6a1c0965-bb78-4324-8213-1ace5a5a6e06"
      },
      "outputs": [],
      "source": [
        "x"
      ]
    },
    {
      "cell_type": "code",
      "execution_count": 92,
      "metadata": {
        "id": "1LzuV43datzk"
      },
      "outputs": [],
      "source": [
        "from sklearn.preprocessing import OneHotEncoder"
      ]
    },
    {
      "cell_type": "code",
      "execution_count": null,
      "metadata": {
        "colab": {
          "base_uri": "https://localhost:8080/"
        },
        "id": "qTGs2VXJa1Ur",
        "outputId": "2d67183b-da13-4d48-f870-26856d888d83"
      },
      "outputs": [],
      "source": [
        "ohe=OneHotEncoder()\n",
        "ohe.fit_transform(df.price.values.reshape(-1,1)).toarray()"
      ]
    },
    {
      "cell_type": "code",
      "execution_count": 94,
      "metadata": {
        "id": "tfucdQaJbOcf"
      },
      "outputs": [],
      "source": [
        "label_encode_y=LabelEncoder()\n",
        "y=label_encode_y.fit_transform(y)"
      ]
    },
    {
      "cell_type": "code",
      "execution_count": null,
      "metadata": {
        "colab": {
          "base_uri": "https://localhost:8080/"
        },
        "id": "9TxbQ9UGbfIw",
        "outputId": "a243600d-ad3d-47aa-a5ed-d74dec8ee461"
      },
      "outputs": [],
      "source": [
        "y"
      ]
    },
    {
      "cell_type": "code",
      "execution_count": 96,
      "metadata": {
        "id": "Yvi-fCeGbfto"
      },
      "outputs": [],
      "source": [
        "from sklearn.model_selection import train_test_split"
      ]
    },
    {
      "cell_type": "code",
      "execution_count": 97,
      "metadata": {
        "id": "XexHoE5hbnn_"
      },
      "outputs": [],
      "source": [
        "x_train,x_test,y_train,y_test=train_test_split(x,y,test_size=0.2,random_state=0)"
      ]
    },
    {
      "cell_type": "code",
      "execution_count": null,
      "metadata": {
        "colab": {
          "base_uri": "https://localhost:8080/"
        },
        "id": "8lYvSDo7byvc",
        "outputId": "ac4a3eb8-c4d5-44d2-98c3-3bd875fd94ed"
      },
      "outputs": [],
      "source": [
        "x_train"
      ]
    },
    {
      "cell_type": "code",
      "execution_count": null,
      "metadata": {
        "colab": {
          "base_uri": "https://localhost:8080/"
        },
        "id": "937sVCDrb0MU",
        "outputId": "a7b0c9e3-ce36-4371-b063-6fc12974294d"
      },
      "outputs": [],
      "source": [
        "y_train"
      ]
    },
    {
      "cell_type": "code",
      "execution_count": null,
      "metadata": {
        "colab": {
          "base_uri": "https://localhost:8080/"
        },
        "id": "XCbr50yIb1sD",
        "outputId": "9ca66756-d113-4581-eeab-78c2f53def7b"
      },
      "outputs": [],
      "source": [
        "x_test"
      ]
    },
    {
      "cell_type": "code",
      "execution_count": null,
      "metadata": {
        "colab": {
          "base_uri": "https://localhost:8080/"
        },
        "id": "EJqzfj-9b2k0",
        "outputId": "57abb33e-7ad4-47cf-e166-9b2eec333a72"
      },
      "outputs": [],
      "source": [
        "y_test"
      ]
    },
    {
      "cell_type": "code",
      "execution_count": 102,
      "metadata": {
        "id": "NG6MP3sSb37M"
      },
      "outputs": [],
      "source": [
        "from sklearn.preprocessing import StandardScaler\n"
      ]
    },
    {
      "cell_type": "code",
      "execution_count": 103,
      "metadata": {
        "id": "qvoS7e4FdAQm"
      },
      "outputs": [],
      "source": [
        "sc_x=StandardScaler()"
      ]
    },
    {
      "cell_type": "code",
      "execution_count": 104,
      "metadata": {
        "id": "T7GyoMJodHuU"
      },
      "outputs": [],
      "source": [
        "x_train_scale=sc_x.fit_transform(x_train[::1])"
      ]
    },
    {
      "cell_type": "code",
      "execution_count": 105,
      "metadata": {
        "id": "HGekWIrGdM_x"
      },
      "outputs": [],
      "source": [
        "x_test_scale=sc_x.fit_transform(x_test)"
      ]
    },
    {
      "cell_type": "code",
      "execution_count": null,
      "metadata": {
        "colab": {
          "base_uri": "https://localhost:8080/"
        },
        "id": "GvMWhNPEdUPN",
        "outputId": "c25c785d-23b0-424c-db1d-bc557fe54ecc"
      },
      "outputs": [],
      "source": [
        "x_train_scale"
      ]
    },
    {
      "cell_type": "code",
      "execution_count": null,
      "metadata": {
        "colab": {
          "base_uri": "https://localhost:8080/"
        },
        "id": "kCOlWLV7dXDr",
        "outputId": "5c83e1ce-3c99-41c6-cd53-9b685b877a36"
      },
      "outputs": [],
      "source": [
        "x_test_scale"
      ]
    }
  ],
  "metadata": {
    "colab": {
      "provenance": []
    },
    "kernelspec": {
      "display_name": "Python 3",
      "name": "python3"
    },
    "language_info": {
      "codemirror_mode": {
        "name": "ipython",
        "version": 3
      },
      "file_extension": ".py",
      "mimetype": "text/x-python",
      "name": "python",
      "nbconvert_exporter": "python",
      "pygments_lexer": "ipython3",
      "version": "3.12.7"
    }
  },
  "nbformat": 4,
  "nbformat_minor": 0
}
