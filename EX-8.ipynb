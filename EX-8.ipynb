{
  "cells": [
    {
      "cell_type": "markdown",
      "metadata": {
        "colab_type": "text",
        "id": "view-in-github"
      },
      "source": [
        "<a href=\"https://colab.research.google.com/github/nishanth-sudo/ML-Laboratory/blob/main/expt8_svm.ipynb\" target=\"_parent\"><img src=\"https://colab.research.google.com/assets/colab-badge.svg\" alt=\"Open In Colab\"/></a>"
      ]
    },
    {
      "cell_type": "code",
      "execution_count": 1,
      "metadata": {
        "id": "HzQxK-cnYAKw"
      },
      "outputs": [],
      "source": [
        "import pandas as pd\n",
        "import seaborn as sns\n",
        "import matplotlib.pyplot as plt"
      ]
    },
    {
      "cell_type": "code",
      "execution_count": null,
      "metadata": {
        "colab": {
          "base_uri": "https://localhost:8080/",
          "height": 206
        },
        "id": "NdOn4aKuYGD4",
        "outputId": "3dc60f98-6e5a-4c5a-f3fb-c9b9f1e1bf77"
      },
      "outputs": [],
      "source": [
        "spam = pd.read_csv(\"dataset/Spam_SMS.csv\")\n",
        "spam.head()"
      ]
    },
    {
      "cell_type": "code",
      "execution_count": null,
      "metadata": {
        "colab": {
          "base_uri": "https://localhost:8080/"
        },
        "id": "QR3dtW-eYamO",
        "outputId": "158ccf31-2aaf-441e-a984-27b824c79069"
      },
      "outputs": [],
      "source": [
        "spam.shape"
      ]
    },
    {
      "cell_type": "code",
      "execution_count": null,
      "metadata": {
        "colab": {
          "base_uri": "https://localhost:8080/"
        },
        "id": "9oQO00gmYcOe",
        "outputId": "425ff2b2-995c-4c64-8b7b-8b87a0e07062"
      },
      "outputs": [],
      "source": [
        "spam.columns"
      ]
    },
    {
      "cell_type": "code",
      "execution_count": null,
      "metadata": {
        "colab": {
          "base_uri": "https://localhost:8080/",
          "height": 175
        },
        "id": "Ncq8JGOJYd3u",
        "outputId": "8c8abd39-92bc-4f63-d5f8-f563867fba25"
      },
      "outputs": [],
      "source": [
        "spam.describe()"
      ]
    },
    {
      "cell_type": "code",
      "execution_count": null,
      "metadata": {
        "colab": {
          "base_uri": "https://localhost:8080/"
        },
        "id": "ci2C1kEDYfB9",
        "outputId": "437bd48d-ed4d-407d-9c01-f73111fcccaa"
      },
      "outputs": [],
      "source": [
        "spam.info()"
      ]
    },
    {
      "cell_type": "code",
      "execution_count": null,
      "metadata": {
        "colab": {
          "base_uri": "https://localhost:8080/",
          "height": 178
        },
        "id": "Y61yurS2YkxG",
        "outputId": "ce8eda1b-1db8-40e5-8701-851f2a070df6"
      },
      "outputs": [],
      "source": [
        "spam[\"Class\"].value_counts()"
      ]
    },
    {
      "cell_type": "code",
      "execution_count": null,
      "metadata": {
        "colab": {
          "base_uri": "https://localhost:8080/",
          "height": 472
        },
        "id": "3MB1hKrTYukH",
        "outputId": "0ab36cc8-d2b1-4ec7-e0c0-4611d1dca4b8"
      },
      "outputs": [],
      "source": [
        "sns.countplot(data=spam, x=spam[\"Class\"]).set_title(\n",
        "    \"Amount of spam and no-spam messages\"\n",
        ")\n",
        "plt.show()\n"
      ]
    },
    {
      "cell_type": "code",
      "execution_count": null,
      "metadata": {
        "colab": {
          "base_uri": "https://localhost:8080/",
          "height": 495
        },
        "id": "-feW8MuZY4Uf",
        "outputId": "31eeceb1-21ca-4801-e52f-eb3e2eaa7b07"
      },
      "outputs": [],
      "source": [
        "count_Class = pd.value_counts(spam.Class, sort=True)\n",
        "labels = \"Ham\", \"Spam\"\n",
        "sizes = [count_Class[0], count_Class[1]]\n",
        "colors = [\"gold\", \"yellowgreen\"]\n",
        "explode = (0.1, 0.1)\n",
        "plt.pie(\n",
        "    sizes,\n",
        "    explode=explode,\n",
        "    labels=labels,\n",
        "    colors=colors,\n",
        "    autopct=\"%1.1f%%\",\n",
        "    shadow=True,\n",
        "    startangle=140,\n",
        ")\n",
        "plt.axis(\"equal\")\n",
        "plt.show()"
      ]
    },
    {
      "cell_type": "code",
      "execution_count": null,
      "metadata": {
        "colab": {
          "base_uri": "https://localhost:8080/",
          "height": 241
        },
        "id": "5jE1cN2wY_m-",
        "outputId": "5feb5d79-8af9-42ff-9124-91658e02e811"
      },
      "outputs": [],
      "source": [
        "X = spam[\"Message\"]\n",
        "X.head()"
      ]
    },
    {
      "cell_type": "code",
      "execution_count": null,
      "metadata": {
        "colab": {
          "base_uri": "https://localhost:8080/",
          "height": 241
        },
        "id": "HOzt03SYZDUM",
        "outputId": "8caa6a12-705d-4682-84f8-774f183407e3"
      },
      "outputs": [],
      "source": [
        "y = spam[\"Class\"]\n",
        "y.head()"
      ]
    },
    {
      "cell_type": "code",
      "execution_count": 12,
      "metadata": {
        "id": "Y3ae0YezZGdm"
      },
      "outputs": [],
      "source": [
        "from sklearn.model_selection import train_test_split\n",
        "\n",
        "X_train, X_test, y_train, y_test = train_test_split(\n",
        "    X, y, test_size=0.20, random_state=0\n",
        ")"
      ]
    },
    {
      "cell_type": "code",
      "execution_count": null,
      "metadata": {
        "colab": {
          "base_uri": "https://localhost:8080/"
        },
        "id": "vCAb0X_vZKBF",
        "outputId": "40322d04-302e-4547-f849-a40fda799ab2"
      },
      "outputs": [],
      "source": [
        "print(X_train.shape)\n",
        "print(y_train.shape)"
      ]
    },
    {
      "cell_type": "code",
      "execution_count": null,
      "metadata": {
        "colab": {
          "base_uri": "https://localhost:8080/"
        },
        "id": "dO9YIp6YZL41",
        "outputId": "eca2acb2-f9cc-481d-80d8-a8ead46ac52a"
      },
      "outputs": [],
      "source": [
        "print(X_test.shape)\n",
        "print(y_test.shape)"
      ]
    },
    {
      "cell_type": "code",
      "execution_count": 15,
      "metadata": {
        "id": "SHMWT_ELZNXV"
      },
      "outputs": [],
      "source": [
        "from sklearn.feature_extraction.text import CountVectorizer\n",
        "\n",
        "cv = CountVectorizer()\n",
        "trainCV = cv.fit_transform(X_train)\n",
        "testCV = cv.transform(X_test)"
      ]
    },
    {
      "cell_type": "code",
      "execution_count": 16,
      "metadata": {
        "id": "nLtDKg97ZPRl"
      },
      "outputs": [],
      "source": [
        "from sklearn.naive_bayes import MultinomialNB\n",
        "\n",
        "naive_bayes = MultinomialNB()\n",
        "naive_bayes.fit(trainCV, y_train)\n",
        "pred_NB = naive_bayes.predict(testCV)"
      ]
    },
    {
      "cell_type": "code",
      "execution_count": null,
      "metadata": {
        "colab": {
          "base_uri": "https://localhost:8080/"
        },
        "id": "X1fkUuSRZRM9",
        "outputId": "3cbb7bdb-be2a-4798-a8b3-44002d34c853"
      },
      "outputs": [],
      "source": [
        "from sklearn.metrics import accuracy_score\n",
        "\n",
        "Accuracy_Score_NB = accuracy_score(y_test, pred_NB)\n",
        "Accuracy_Score_NB"
      ]
    },
    {
      "cell_type": "code",
      "execution_count": 18,
      "metadata": {
        "id": "7sHm36v3ZTls"
      },
      "outputs": [],
      "source": [
        "from sklearn.neighbors import KNeighborsClassifier\n",
        "\n",
        "classifier_knn = KNeighborsClassifier()\n",
        "classifier_knn.fit(trainCV, y_train)\n",
        "pred_knn = classifier_knn.predict(testCV)"
      ]
    },
    {
      "cell_type": "code",
      "execution_count": null,
      "metadata": {
        "colab": {
          "base_uri": "https://localhost:8080/"
        },
        "id": "rLlaw4caZWR0",
        "outputId": "ff202a7e-1cee-4d2a-efdd-c7ff6ea2c27d"
      },
      "outputs": [],
      "source": [
        "Accuracy_Score_knn = accuracy_score(y_test, pred_knn)\n",
        "Accuracy_Score_knn"
      ]
    },
    {
      "cell_type": "code",
      "execution_count": 20,
      "metadata": {
        "id": "jWalFy4iZXhu"
      },
      "outputs": [],
      "source": [
        "from sklearn.svm import SVC\n",
        "\n",
        "classifier_svm_linear = SVC(kernel=\"linear\")\n",
        "classifier_svm_linear.fit(trainCV, y_train)\n",
        "pred_svm_linear = classifier_svm_linear.predict(testCV)"
      ]
    },
    {
      "cell_type": "code",
      "execution_count": null,
      "metadata": {
        "colab": {
          "base_uri": "https://localhost:8080/"
        },
        "id": "GrgkDh84ZZb2",
        "outputId": "65ed7d19-f0c6-4bba-dd02-4f25d9286c9c"
      },
      "outputs": [],
      "source": [
        "Accuracy_Score_SVM_Linear = accuracy_score(y_test, pred_svm_linear)\n",
        "Accuracy_Score_SVM_Linear"
      ]
    },
    {
      "cell_type": "code",
      "execution_count": 22,
      "metadata": {
        "id": "w3v5nLr7ZbM2"
      },
      "outputs": [],
      "source": [
        "classifier_svm_rbf = SVC(kernel=\"rbf\")\n",
        "classifier_svm_rbf.fit(trainCV, y_train)\n",
        "pred_svm_rbf = classifier_svm_rbf.predict(testCV)"
      ]
    },
    {
      "cell_type": "code",
      "execution_count": null,
      "metadata": {
        "colab": {
          "base_uri": "https://localhost:8080/"
        },
        "id": "EgmXMrrhZdCt",
        "outputId": "20fe0f7c-d320-4fc9-ea23-2dee012408f9"
      },
      "outputs": [],
      "source": [
        "Accuracy_Score_SVM_Gaussion = accuracy_score(y_test, pred_svm_rbf)\n",
        "Accuracy_Score_SVM_Gaussion"
      ]
    },
    {
      "cell_type": "code",
      "execution_count": 24,
      "metadata": {
        "id": "dVuSJ4HnZfwk"
      },
      "outputs": [],
      "source": [
        "classifier_svm_poly = SVC(kernel=\"poly\")\n",
        "classifier_svm_poly.fit(trainCV, y_train)\n",
        "pred_svm_poly = classifier_svm_poly.predict(testCV)"
      ]
    },
    {
      "cell_type": "code",
      "execution_count": null,
      "metadata": {
        "colab": {
          "base_uri": "https://localhost:8080/"
        },
        "id": "OCFat4QCZkcu",
        "outputId": "334efd05-695e-4905-8693-72515a065029"
      },
      "outputs": [],
      "source": [
        "Accuracy_Score_SVM_Polynomial = accuracy_score(y_test, pred_svm_poly)\n",
        "Accuracy_Score_SVM_Polynomial"
      ]
    },
    {
      "cell_type": "code",
      "execution_count": 26,
      "metadata": {
        "id": "Z_2zPeSTZm4-"
      },
      "outputs": [],
      "source": [
        "classifier_svm_sigmoid = SVC(kernel=\"sigmoid\")\n",
        "classifier_svm_sigmoid.fit(trainCV, y_train)\n",
        "pred_svm_sigmoid = classifier_svm_sigmoid.predict(testCV)"
      ]
    },
    {
      "cell_type": "code",
      "execution_count": null,
      "metadata": {
        "colab": {
          "base_uri": "https://localhost:8080/"
        },
        "id": "_Diii6jZZojm",
        "outputId": "6604c4ca-c82d-4d2e-ffb7-acbc870df8ca"
      },
      "outputs": [],
      "source": [
        "Accuracy_Score_svm_Sigmoid = accuracy_score(y_test, pred_svm_sigmoid)\n",
        "Accuracy_Score_svm_Sigmoid"
      ]
    },
    {
      "cell_type": "code",
      "execution_count": 28,
      "metadata": {
        "id": "mEpGvpOZZqAu"
      },
      "outputs": [],
      "source": [
        "from sklearn.tree import DecisionTreeClassifier\n",
        "\n",
        "classifier_dt = DecisionTreeClassifier()\n",
        "classifier_dt.fit(trainCV, y_train)\n",
        "pred_dt = classifier_dt.predict(testCV)"
      ]
    },
    {
      "cell_type": "code",
      "execution_count": null,
      "metadata": {
        "colab": {
          "base_uri": "https://localhost:8080/"
        },
        "id": "jX01rHEXZr3m",
        "outputId": "b3f0f0da-51b2-4e5c-8dbc-84225e466f5a"
      },
      "outputs": [],
      "source": [
        "Accuracy_Score_dt = accuracy_score(y_test, pred_dt)\n",
        "Accuracy_Score_dt"
      ]
    },
    {
      "cell_type": "code",
      "execution_count": 30,
      "metadata": {
        "id": "vjQAPTiyZtou"
      },
      "outputs": [],
      "source": [
        "from sklearn.ensemble import RandomForestClassifier\n",
        "\n",
        "classifier_rf = RandomForestClassifier()\n",
        "classifier_rf.fit(trainCV, y_train)\n",
        "pred_rf = classifier_rf.predict(testCV)"
      ]
    },
    {
      "cell_type": "code",
      "execution_count": null,
      "metadata": {
        "colab": {
          "base_uri": "https://localhost:8080/"
        },
        "id": "YQD-LkH-ZvjG",
        "outputId": "8909732e-e6ec-479d-d63b-5a4b97c1e870"
      },
      "outputs": [],
      "source": [
        "Accuracy_Score_rf = accuracy_score(y_test, pred_rf)\n",
        "Accuracy_Score_rf"
      ]
    },
    {
      "cell_type": "code",
      "execution_count": null,
      "metadata": {
        "colab": {
          "base_uri": "https://localhost:8080/"
        },
        "id": "XzJsP5i-ZyBn",
        "outputId": "e66a4379-e595-460b-9c9b-f48d4adef9cd"
      },
      "outputs": [],
      "source": [
        "print(\"K-Nearest Neighbors =\", Accuracy_Score_knn)\n",
        "print(\"Naive Bayes =\", Accuracy_Score_NB)\n",
        "print(\"Support Vector Machine Linear =\", Accuracy_Score_SVM_Linear)\n",
        "print(\"Support Vector Machine Gaussion =\", Accuracy_Score_SVM_Gaussion)\n",
        "print(\"Support Vector Machine Polynomial =\", Accuracy_Score_SVM_Polynomial)\n",
        "print(\"Support Vector Machine Sigmoid =\", Accuracy_Score_svm_Sigmoid)\n",
        "print(\"Decision Tree =\", Accuracy_Score_dt)\n",
        "print(\"Random Forest =\", Accuracy_Score_rf)"
      ]
    }
  ],
  "metadata": {
    "colab": {
      "authorship_tag": "ABX9TyN7yIy8KK/OICt7W+KN3q5h",
      "include_colab_link": true,
      "mount_file_id": "1Fdc0UZidupBChfxVfc-ZL3vAbsMCDBvo",
      "provenance": []
    },
    "kernelspec": {
      "display_name": "Python 3",
      "name": "python3"
    },
    "language_info": {
      "codemirror_mode": {
        "name": "ipython",
        "version": 3
      },
      "file_extension": ".py",
      "mimetype": "text/x-python",
      "name": "python",
      "nbconvert_exporter": "python",
      "pygments_lexer": "ipython3",
      "version": "3.12.7"
    }
  },
  "nbformat": 4,
  "nbformat_minor": 0
}
