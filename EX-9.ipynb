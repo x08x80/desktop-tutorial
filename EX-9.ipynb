{
  "cells": [
    {
      "cell_type": "code",
      "execution_count": 1,
      "metadata": {
        "id": "ex1pAa34EBOf"
      },
      "outputs": [],
      "source": [
        "import numpy as np\n",
        "from sklearn.datasets import fetch_20newsgroups\n",
        "from sklearn.feature_extraction.text import CountVectorizer\n",
        "from sklearn.feature_extraction.text import TfidfTransformer\n",
        "from sklearn.naive_bayes import MultinomialNB\n",
        "from sklearn.pipeline import Pipeline"
      ]
    },
    {
      "cell_type": "code",
      "execution_count": null,
      "metadata": {
        "colab": {
          "base_uri": "https://localhost:8080/"
        },
        "id": "eZj_C5DAEMPC",
        "outputId": "71e2da9e-74c8-49a7-ab10-a5b0d0181f0a"
      },
      "outputs": [],
      "source": [
        "categories = [\"rec.motorcycles\", \"sci.electronics\", \"comp.graphics\", \"sci.med\"]\n",
        "train_data = fetch_20newsgroups(\n",
        "    subset=\"train\", categories=categories, shuffle=True, random_state=42\n",
        ")\n",
        "print(train_data.target_names)\n",
        "print(\"\\n\".join(train_data.data[0].split(\"\\n\")[:3]))\n",
        "print(train_data.target_names[train_data.target[0]])\n",
        "for t in train_data.target[:10]:\n",
        "    print(train_data.target_names[t])"
      ]
    },
    {
      "cell_type": "code",
      "execution_count": 3,
      "metadata": {
        "id": "xdW3aaEJEWg4"
      },
      "outputs": [],
      "source": [
        "count_vect = CountVectorizer()\n",
        "X_train_counts = count_vect.fit_transform(train_data.data)\n",
        "tfidf_transformer = TfidfTransformer()\n",
        "X_train_tfidf = tfidf_transformer.fit_transform(X_train_counts)"
      ]
    },
    {
      "cell_type": "code",
      "execution_count": 4,
      "metadata": {
        "id": "sBFhkPcQEewy"
      },
      "outputs": [],
      "source": [
        "clf = MultinomialNB().fit(X_train_tfidf, train_data.target)\n",
        "docs_new = [\"I have a Harley Davidson and Yamaha.\", \"I have a GTX 1050 GPU\"]\n",
        "X_new_counts = count_vect.transform(docs_new)\n",
        "X_new_tfidf = tfidf_transformer.transform(X_new_counts)"
      ]
    },
    {
      "cell_type": "code",
      "execution_count": null,
      "metadata": {
        "colab": {
          "base_uri": "https://localhost:8080/"
        },
        "id": "eaIi6rl9EpzA",
        "outputId": "fef95d39-fcd8-4ac1-9438-57816ccab6a6"
      },
      "outputs": [],
      "source": [
        "predicted = clf.predict(X_new_tfidf)\n",
        "for doc, category in zip(docs_new, predicted):\n",
        "    print(\"%r => %s\" % (doc, train_data.target_names[category]))"
      ]
    },
    {
      "cell_type": "code",
      "execution_count": null,
      "metadata": {
        "colab": {
          "base_uri": "https://localhost:8080/"
        },
        "id": "eihi7dD1E6-v",
        "outputId": "00506566-5ce1-48bb-fcab-4afdc083a9f4"
      },
      "outputs": [],
      "source": [
        "text_clf = Pipeline(\n",
        "    [\n",
        "        (\"vect\", CountVectorizer()),\n",
        "        (\"tfidf\", TfidfTransformer()),\n",
        "        (\"clf\", MultinomialNB()),\n",
        "    ]\n",
        ")\n",
        "text_clf.fit(train_data.data, train_data.target)\n",
        "test_data = fetch_20newsgroups(\n",
        "    subset=\"test\", categories=categories, shuffle=True, random_state=42\n",
        ")\n",
        "docs_test = test_data.data\n",
        "predicted = text_clf.predict(docs_test)\n",
        "print(\"We got an accuracy of\", np.mean(predicted == test_data.target) * 100, \"%\")"
      ]
    }
  ],
  "metadata": {
    "colab": {
      "provenance": []
    },
    "kernelspec": {
      "display_name": "Python 3",
      "name": "python3"
    },
    "language_info": {
      "codemirror_mode": {
        "name": "ipython",
        "version": 3
      },
      "file_extension": ".py",
      "mimetype": "text/x-python",
      "name": "python",
      "nbconvert_exporter": "python",
      "pygments_lexer": "ipython3",
      "version": "3.12.7"
    }
  },
  "nbformat": 4,
  "nbformat_minor": 0
}
